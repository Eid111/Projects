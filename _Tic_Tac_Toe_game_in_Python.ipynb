{
  "cells": [
    {
      "cell_type": "markdown",
      "metadata": {
        "id": "view-in-github",
        "colab_type": "text"
      },
      "source": [
        "<a href=\"https://colab.research.google.com/github/Eid111/Projects/blob/main/_Tic_Tac_Toe_game_in_Python.ipynb\" target=\"_parent\"><img src=\"https://colab.research.google.com/assets/colab-badge.svg\" alt=\"Open In Colab\"/></a>"
      ]
    },
    {
      "cell_type": "code",
      "execution_count": 1,
      "metadata": {
        "id": "4MzauVMMLuCV"
      },
      "outputs": [],
      "source": [
        "#print_board\n",
        "board = [\" \" for x in range(9)]\n",
        "\n",
        "\n",
        "def print_board():\n",
        "    row1 = \"| {} | {} | {} |\".format(board[0], board[1], board[2])\n",
        "    row2 = \"| {} | {} | {} |\".format(board[3], board[4], board[5])\n",
        "    row3 = \"| {} | {} | {} |\".format(board[6], board[7], board[8])\n",
        "\n",
        "    print()\n",
        "    print(\" 1 | 2 | 3 \")\n",
        "    print(\"---|---|---\")\n",
        "    print(row1)\n",
        "    print(\" 4 | 5 | 6 \")\n",
        "    print(\"---|---|---\")\n",
        "    print(row2)\n",
        "    print(\" 7 | 8 | 9 \")\n",
        "    print(\"---|---|---\")\n",
        "    print(row3)\n",
        "\n",
        "\n",
        "    print()"
      ]
    },
    {
      "cell_type": "code",
      "source": [
        "def choose_icon():\n",
        "    icon = input(\"Player 1, would you like to be X or O? \").upper()\n",
        "    if icon == \"X\":\n",
        "        return \"X\", \"O\"\n",
        "    elif icon == \"O\":\n",
        "        return \"O\", \"X\"\n",
        "    else:\n",
        "        print(\"Invalid choice. Please select X or O.\")\n",
        "        return choose_icon()"
      ],
      "metadata": {
        "id": "p-bJ9XUijNJd"
      },
      "execution_count": 2,
      "outputs": []
    },
    {
      "cell_type": "code",
      "execution_count": 3,
      "metadata": {
        "id": "cP5bQDwRLuCa"
      },
      "outputs": [],
      "source": [
        "#take player input\n",
        "def player_move(icon):\n",
        "    if icon == \"X\":\n",
        "        number = 1\n",
        "    elif icon == \"O\":\n",
        "        number = 2\n",
        "\n",
        "    print(\"Your turn player {}\".format(number))\n",
        "\n",
        "    choice = int(input(\"Enter your move (1-9): \").strip())\n",
        "    if board[choice - 1] == \" \":\n",
        "        board[choice - 1] = icon\n",
        "    else:\n",
        "        print()\n",
        "        print(\"That space is taken!\")"
      ]
    },
    {
      "cell_type": "code",
      "execution_count": 4,
      "metadata": {
        "id": "P0fqY0gQLuCb"
      },
      "outputs": [],
      "source": [
        "#check if win\n",
        "def is_victory(icon):\n",
        "    if (board[0] == icon and board[1] == icon and board[2] == icon) or \\\n",
        "       (board[3] == icon and board[4] == icon and board[5] == icon) or \\\n",
        "       (board[6] == icon and board[7] == icon and board[8] == icon) or \\\n",
        "       (board[0] == icon and board[3] == icon and board[6] == icon) or \\\n",
        "       (board[1] == icon and board[4] == icon and board[7] == icon) or \\\n",
        "       (board[2] == icon and board[5] == icon and board[8] == icon) or \\\n",
        "       (board[0] == icon and board[4] == icon and board[8] == icon) or \\\n",
        "       (board[2] == icon and board[4] == icon and board[6] == icon):\n",
        "        return True\n",
        "    else:\n",
        "        return False"
      ]
    },
    {
      "cell_type": "code",
      "execution_count": 5,
      "metadata": {
        "id": "HAUejsEELuCc"
      },
      "outputs": [],
      "source": [
        "\n",
        "def is_draw():\n",
        "    if \" \" not in board:\n",
        "        return True\n",
        "    else:\n",
        "        return False\n"
      ]
    },
    {
      "cell_type": "code",
      "execution_count": 6,
      "metadata": {
        "colab": {
          "base_uri": "https://localhost:8080/"
        },
        "id": "JcH_octTLuCd",
        "outputId": "724d36b8-53be-4341-ded8-10ade1f2123c"
      },
      "outputs": [
        {
          "output_type": "stream",
          "name": "stdout",
          "text": [
            "Player 1, would you like to be X or O? X\n",
            "\n",
            " 1 | 2 | 3 \n",
            "---|---|---\n",
            "|   |   |   |\n",
            " 4 | 5 | 6 \n",
            "---|---|---\n",
            "|   |   |   |\n",
            " 7 | 8 | 9 \n",
            "---|---|---\n",
            "|   |   |   |\n",
            "\n",
            "Your turn player 1\n",
            "Enter your move (1-9): 5\n",
            "\n",
            " 1 | 2 | 3 \n",
            "---|---|---\n",
            "|   |   |   |\n",
            " 4 | 5 | 6 \n",
            "---|---|---\n",
            "|   | X |   |\n",
            " 7 | 8 | 9 \n",
            "---|---|---\n",
            "|   |   |   |\n",
            "\n",
            "Your turn player 2\n",
            "Enter your move (1-9): 6\n",
            "\n",
            " 1 | 2 | 3 \n",
            "---|---|---\n",
            "|   |   |   |\n",
            " 4 | 5 | 6 \n",
            "---|---|---\n",
            "|   | X | O |\n",
            " 7 | 8 | 9 \n",
            "---|---|---\n",
            "|   |   |   |\n",
            "\n",
            "Your turn player 1\n",
            "Enter your move (1-9): 9\n",
            "\n",
            " 1 | 2 | 3 \n",
            "---|---|---\n",
            "|   |   |   |\n",
            " 4 | 5 | 6 \n",
            "---|---|---\n",
            "|   | X | O |\n",
            " 7 | 8 | 9 \n",
            "---|---|---\n",
            "|   |   | X |\n",
            "\n",
            "Your turn player 2\n",
            "Enter your move (1-9): 8\n",
            "\n",
            " 1 | 2 | 3 \n",
            "---|---|---\n",
            "|   |   |   |\n",
            " 4 | 5 | 6 \n",
            "---|---|---\n",
            "|   | X | O |\n",
            " 7 | 8 | 9 \n",
            "---|---|---\n",
            "|   | O | X |\n",
            "\n",
            "Your turn player 1\n",
            "Enter your move (1-9): 1\n",
            "\n",
            " 1 | 2 | 3 \n",
            "---|---|---\n",
            "| X |   |   |\n",
            " 4 | 5 | 6 \n",
            "---|---|---\n",
            "|   | X | O |\n",
            " 7 | 8 | 9 \n",
            "---|---|---\n",
            "|   | O | X |\n",
            "\n",
            "X wins! Congratulations!\n"
          ]
        }
      ],
      "source": [
        "player1_icon, player2_icon = choose_icon()\n",
        "\n",
        "while True:\n",
        "    print_board()\n",
        "    player_move(player1_icon)\n",
        "    print_board()\n",
        "    if is_victory(player1_icon):\n",
        "        print(f\"{player1_icon} wins! Congratulations!\")\n",
        "        break\n",
        "    elif is_draw():\n",
        "        print(\"It's a draw!\")\n",
        "        break\n",
        "    player_move(player2_icon)\n",
        "    if is_victory(player2_icon):\n",
        "        print_board()\n",
        "        print(f\"{player2_icon} wins! Congratulations!\")\n",
        "        break\n",
        "    elif is_draw():\n",
        "        print(\"It's a draw!\")\n",
        "        break"
      ]
    },
    {
      "cell_type": "code",
      "execution_count": 6,
      "metadata": {
        "id": "vFEfYy6ELuCe"
      },
      "outputs": [],
      "source": []
    }
  ],
  "metadata": {
    "kernelspec": {
      "display_name": "Python 3 (ipykernel)",
      "language": "python",
      "name": "python3"
    },
    "language_info": {
      "codemirror_mode": {
        "name": "ipython",
        "version": 3
      },
      "file_extension": ".py",
      "mimetype": "text/x-python",
      "name": "python",
      "nbconvert_exporter": "python",
      "pygments_lexer": "ipython3",
      "version": "3.10.9"
    },
    "colab": {
      "provenance": [],
      "include_colab_link": true
    }
  },
  "nbformat": 4,
  "nbformat_minor": 0
}